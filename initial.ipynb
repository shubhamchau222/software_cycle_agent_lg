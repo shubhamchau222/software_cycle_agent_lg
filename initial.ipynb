{
 "cells": [
  {
   "cell_type": "code",
   "execution_count": 5,
   "metadata": {},
   "outputs": [
    {
     "data": {
      "text/plain": [
       "True"
      ]
     },
     "execution_count": 5,
     "metadata": {},
     "output_type": "execute_result"
    }
   ],
   "source": [
    "import os \n",
    "from dotenv import load_dotenv\n",
    "env_path = r\"D:\\common_credentials\\.env\"\n",
    "load_dotenv(dotenv_path=env_path)"
   ]
  },
  {
   "cell_type": "code",
   "execution_count": 6,
   "metadata": {},
   "outputs": [],
   "source": [
    "from langchain_core.messages import HumanMessage, SystemMessage, AnyMessage\n",
    "from langgraph.graph import END, START, StateGraph, add_messages\n",
    "from typing import TypedDict, List, Dict, Annotated\n",
    "from prompts.system_prompts import product_owner_prompt\n",
    "from langchain_core.prompts import ChatPromptTemplate\n",
    "from langchain_groq import ChatGroq\n",
    "from IPython.display import display, Markdown"
   ]
  },
  {
   "cell_type": "code",
   "execution_count": 8,
   "metadata": {},
   "outputs": [],
   "source": [
    "llm= ChatGroq(model=\"llama-3.2-11b-vision-preview\")"
   ]
  },
  {
   "cell_type": "code",
   "execution_count": null,
   "metadata": {},
   "outputs": [
    {
     "data": {
      "text/plain": [
       "<langgraph.graph.state.StateGraph at 0x16bf94935d0>"
      ]
     },
     "execution_count": 34,
     "metadata": {},
     "output_type": "execute_result"
    }
   ],
   "source": []
  },
  {
   "cell_type": "code",
   "execution_count": 99,
   "metadata": {},
   "outputs": [
    {
     "data": {
      "image/png": "[encoded data removed]",
      "text/plain": [
       "<langgraph.graph.state.CompiledStateGraph object at 0x0000016B93681310>"
      ]
     },
     "execution_count": 99,
     "metadata": {},
     "output_type": "execute_result"
    }
   ],
   "source": [
    "class State(TypedDict):\n",
    "    # msg: Annotated[list[AnyMessage], add_messages]\n",
    "    question: str\n",
    "    documents: List[str]\n",
    "\n",
    "\n",
    "\n",
    "# Define the product_owner function\n",
    "def product_owner(state: State):\n",
    "    ProdOwnSysPrompt = product_owner_prompt\n",
    "    question = state[\"question\"]\n",
    "    # owner_template = ChatPromptTemplate(messages=[\n",
    "    #     (\"system\", ProdOwnSysPrompt),\n",
    "    #     (\"documents\", \"{question}\")\n",
    "    # ])\n",
    "    # owner_template= owner_template.invoke({\"question\": question})\n",
    "    owner_template= ProdOwnSysPrompt + question\n",
    "\n",
    "    response = llm.invoke(owner_template)\n",
    "    return {\"documents\": response,\n",
    "            \"question\": question}\n",
    "\n",
    "\n",
    "# ----------- Graph Builder -----------------\n",
    "builder = StateGraph(State)\n",
    "# Adding nodes and edges to the builder\n",
    "builder.add_node(\"owner\", product_owner)\n",
    "builder.add_edge(START, \"owner\")\n",
    "builder.add_edge(\"owner\", END)\n",
    "graph= builder.compile()\n",
    "builder.compile()\n"
   ]
  },
  {
   "cell_type": "code",
   "execution_count": 117,
   "metadata": {},
   "outputs": [
    {
     "data": {
      "text/markdown": [
       "### Step 1: Understand Requirements\n",
       "\n",
       "Based on your requirement, I'll break down the requirements into smaller, actionable tasks. \n",
       "\n",
       "- **Gather Requirements:**\n",
       "\n",
       "  1. The application will store recipes.\n",
       "  2. Users can login and store their own recipes.\n",
       "  3. Users will have a personalized dashboard to manage their recipes.\n",
       "  4. Users can search, filter, and sort recipes.\n",
       "  5. Users can add, edit, and delete their own recipes.\n",
       "\n",
       "- **Prioritize Requirements:**\n",
       "  1. User authentication and authorization (login feature)\n",
       "  2. Recipe storage and management (saving, editing, and deleting recipes)\n",
       "  3. User dashboard and recipe listing\n",
       "  4. Search, filter, and sort functionality\n",
       "  5. User profile management\n",
       "\n",
       "### Step 2: Create User Stories\n",
       "\n",
       "Here are the user stories based on the prioritized requirements:\n",
       "\n",
       "1. **Story 1: User Login**\n",
       "\n",
       "   - As a user, I want to be able to login, so that I can access my account and store recipes.\n",
       "   - Acceptance Criteria:\n",
       "     - The user can enter their email and password to login.\n",
       "     - The application checks the user's email and password against the stored data.\n",
       "     - If the credentials are correct, the user is redirected to their dashboard.\n",
       "\n",
       "2. **Story 2: User Registration**\n",
       "\n",
       "   - As a user, I want to be able to register for an account, so that I can store recipes.\n",
       "   - Acceptance Criteria:\n",
       "     - The user can enter their email, password, and other required information to register.\n",
       "     - The application checks for existing email addresses and ensures password requirements are met.\n",
       "     - If the registration is successful, the user is redirected to the login page.\n",
       "\n",
       "3. **Story 3: Personalized Dashboard**\n",
       "\n",
       "   - As a user, I want to be able to access my dashboard, so that I can view and manage my recipes.\n",
       "   - Acceptance Criteria:\n",
       "     - The user can view their recipes, including name, description, and ingredients.\n",
       "     - The user can view their saved recipes with a \"Saved\" status.\n",
       "     - The user can delete or edit their saved recipes.\n",
       "\n",
       "4. **Story 4: Recipe Storage and Management**\n",
       "\n",
       "   - As a user, I want to be able to add, edit, and delete recipes, so that I can manage my cookbook.\n",
       "   - Acceptance Criteria:\n",
       "     - The user can add a new recipe with name, description, ingredients, and instructions.\n",
       "     - The user can edit an existing recipe to update its details.\n",
       "     - The user can delete a recipe from their cookbook.\n",
       "\n",
       "5. **Story 5: Search, Filter, and Sort Functionality**\n",
       "\n",
       "   - As a user, I want to be able to search, filter, and sort recipes, so that I can quickly find the recipes I need.\n",
       "   - Acceptance Criteria:\n",
       "     - The user can search recipes by name, ingredients, or tags.\n",
       "     - The user can filter recipes by category, cooking time, or dietary restrictions.\n",
       "     - The user can sort recipes by name, cooking time, or rating.\n",
       "\n",
       "6. **Story 6: User Profile Management**\n",
       "\n",
       "   - As a user, I want to be able to manage my profile information, so that I can keep my account up-to-date.\n",
       "   - Acceptance Criteria:\n",
       "     - The user can view and edit their profile information.\n",
       "     - The user can update their password and other account settings.\n",
       "\n",
       "### Step 3: Address Dependencies & Constraints\n",
       "\n",
       "- **External Dependencies:**\n",
       "  - The application will use a third-party API for email verification and password hashing.\n",
       "  - The application will use a database to store user data and recipe information.\n",
       "\n",
       "- **Constraints:**\n",
       "  - The application must follow the standard UI/UX guidelines for login and registration pages.\n",
       "  - The application must ensure password security and encryption.\n",
       "\n",
       "### Step 4: Provide Context & Instructions\n",
       "\n",
       "- **Background Information:**\n",
       "  - The application will be a web-based platform for users to store and manage their recipes.\n",
       "  - The application will be built using HTML, CSS, JavaScript, and a backend framework such as Node.js.\n",
       "\n",
       "- **UI/UX Guidelines:**\n",
       "  - The login and registration pages must follow standard UI/UX guidelines for input fields and buttons.\n",
       "  - The dashboard and recipe listing pages must be visually appealing and easy to navigate.\n",
       "\n",
       "- **Technical Notes:**\n",
       "  - The application will use a RESTful API for backend communication.\n",
       "  - The application will use a library such as Passport.js for authentication and authorization.\n",
       "\n",
       "### Step 5: Prioritize & Break Down Stories\n",
       "\n",
       "- **Prioritization:**\n",
       "  - The login and registration stories have the highest priority, as they are essential for user authentication and authorization.\n",
       "  - The recipe storage and management stories have the next highest priority, as they are essential for user functionality.\n",
       "\n",
       "- **Breaking Down Stories:**\n",
       "  - Story 1 (User Login) can be broken down into smaller tasks such as handling user input, checking credentials, and redirecting to the dashboard.\n",
       "  - Story 2 (User Registration) can be broken down into smaller tasks such as handling user input, checking for existing email addresses, and redirecting to the login page.\n",
       "\n",
       "### Step 6: Communicate & Collaborate\n",
       "\n",
       "- **Team Communication:**\n",
       "  - The team will communicate through regular meetings and stand-ups to ensure everyone is on the same page.\n",
       "  - The team will use collaboration tools such as Trello or Asana to track progress and assign tasks.\n",
       "\n",
       "- **Stakeholder Communication:**\n",
       "  - The stakeholders will be kept informed through regular updates and demos.\n",
       "  - The stakeholders will be involved in the testing and validation process to ensure the application meets their requirements.\n",
       "\n",
       "### Step 7: Review & Iterate\n",
       "\n",
       "- **Review Process:**\n",
       "  - The team will review the completed stories with stakeholders to gather feedback and identify areas for improvement.\n",
       "  - The team will iterate on the stories to address any issues or concerns.\n",
       "\n",
       "- **Iteration:**\n",
       "  - The team will iterate on the stories to ensure they meet the requirements and are testable.\n",
       "  - The team will refine the stories to ensure they are clear and concise."
      ],
      "text/plain": [
       "<IPython.core.display.Markdown object>"
      ]
     },
     "metadata": {},
     "output_type": "display_data"
    }
   ],
   "source": [
    "inputs = {\n",
    "    \"question\": \"I want application which can store the recipe, where user can login and store there own recipe.\"\n",
    "}\n",
    "for output in graph.stream(inputs):\n",
    "    display(Markdown(output['owner']['documents'].content))\n",
    "\n",
    " "
   ]
  },
  {
   "cell_type": "markdown",
   "metadata": {},
   "source": [
    "# Another way"
   ]
  },
  {
   "cell_type": "code",
   "execution_count": 11,
   "metadata": {},
   "outputs": [],
   "source": [
    "class graphstate(TypedDict):\n",
    "    msg: Annotated[list[AnyMessage], add_messages]"
   ]
  },
  {
   "cell_type": "code",
   "execution_count": 33,
   "metadata": {},
   "outputs": [],
   "source": [
    "def product_owner(state: graphstate):\n",
    "    template= ChatPromptTemplate([\n",
    "        (\"system\", product_owner_prompt),\n",
    "        (\"human\", \"{user_input}\")\n",
    "    ])\n",
    "    user_input= state['msg']\n",
    "    completed_template= template.invoke({\"user_input\": user_input})\n",
    "    response = llm.invoke(completed_template)\n",
    "    return {\"msg\":[response]}\n",
    "    \n",
    "#create Graph \n",
    "builder= StateGraph(graphstate)\n",
    "builder.add_node(\"owner\", product_owner)\n",
    "builder.add_edge(START, \"owner\")\n",
    "builder.add_edge(\"owner\", END)\n",
    "graph= builder.compile()"
   ]
  },
  {
   "cell_type": "code",
   "execution_count": 34,
   "metadata": {},
   "outputs": [
    {
     "data": {
      "image/png": "[encoded data removed]",
      "text/plain": [
       "<IPython.core.display.Image object>"
      ]
     },
     "metadata": {},
     "output_type": "display_data"
    }
   ],
   "source": [
    "from IPython.display import Image, display\n",
    "display(Image(graph.get_graph().draw_mermaid_png()))"
   ]
  },
  {
   "cell_type": "code",
   "execution_count": 48,
   "metadata": {},
   "outputs": [
    {
     "name": "stdout",
     "output_type": "stream",
     "text": [
      "Based on the provided user requirement, I will follow the steps to prepare user stories for the development team.\n",
      "\n",
      "### Step 1: Understand Requirements\n",
      "\n",
      "**Requirement**: The user wants to create an app where they can store their recipes.\n",
      "\n",
      "**Clarification Needed**: We need to understand what features the user expects from the app. Some questions to ask:\n",
      "- Can users browse through stored recipes?\n",
      "- Can users add new recipes?\n",
      "- Can users edit or delete existing recipes?\n",
      "- Are there any specific fields or features users want in their stored recipes (e.g., images, tags, etc.)?\n",
      "- Are there any specific requirements for user authentication or authorization?\n",
      "\n",
      "### Step 2: Create User Stories\n",
      "\n",
      "Based on the clarification, let's create the following user stories:\n",
      "\n",
      "#### Story 1: Add Recipe\n",
      "\n",
      "*As a user, I want to add a new recipe to my collection, so that I can organize and easily access my favorite recipes.*\n",
      "\n",
      "#### Story 2: View Stored Recipes\n",
      "\n",
      "*As a user, I want to be able to browse through the recipes I have added, so that I can quickly find a recipe when I need it.*\n",
      "\n",
      "#### Story 3: Edit Recipe\n",
      "\n",
      "*As a user, I want to be able to edit an existing recipe, so that I can update the recipe details as needed.*\n",
      "\n",
      "#### Story 4: Delete Recipe\n",
      "\n",
      "*As a user, I want to be able to delete a recipe from my collection, so that I can remove unwanted or outdated recipes.*\n",
      "\n",
      "### Step 3: Define Acceptance Criteria\n",
      "\n",
      "For each story, we need to define clear criteria for completion. Here are some examples:\n",
      "\n",
      "#### Story 1: Add Recipe\n",
      "\n",
      "- The user can successfully add a new recipe with the required fields (name, ingredients, instructions).\n",
      "- The new recipe is saved to the user's collection and can be viewed in the browse screen.\n",
      "- The user can edit and delete the newly added recipe.\n",
      "\n",
      "#### Story 2: View Stored Recipes\n",
      "\n",
      "- The user can view a list of all stored recipes in the browse screen.\n",
      "- Each recipe in the list displays the name, ingredients, and instructions.\n",
      "- The user can click on a recipe to view its details.\n",
      "\n",
      "#### Story 3: Edit Recipe\n",
      "\n",
      "- The user can successfully edit an existing recipe's details.\n",
      "- The edited recipe is saved to the user's collection and can be viewed in the browse screen.\n",
      "- The user can view the updated recipe details.\n",
      "\n",
      "#### Story 4: Delete Recipe\n",
      "\n",
      "- The user can successfully delete an existing recipe from their collection.\n",
      "- The deleted recipe is removed from the user's browse screen.\n",
      "- The user receives a confirmation message after deletion.\n",
      "\n",
      "### Step 4: Address Dependencies & Constraints\n",
      "\n",
      "We need to identify any external dependencies or constraints that may impact the development of these stories. Some examples:\n",
      "\n",
      "- Integration with a database to store and retrieve recipe data.\n",
      "- Implementation of user authentication and authorization to restrict access to recipe data.\n",
      "- Adherence to specific UI/UX guidelines for the app's design and layout.\n",
      "\n",
      "### Step 5: Provide Context & Instructions\n",
      "\n",
      "We need to provide necessary background information, UI/UX guidelines, and technical notes to help the development team understand the requirements and implement the stories. Some examples:\n",
      "\n",
      "- Use of a specific database schema to store recipe data.\n",
      "- Implementation of a user profile system to manage user authentication and authorization.\n",
      "- Adherence to specific design guidelines for the app's UI and UX.\n",
      "\n",
      "### Step 6: Prioritize & Break Down Stories\n",
      "\n",
      "We need to assess the priorities of each story, break down large stories into smaller ones, and estimate the effort required for each story. Some examples:\n",
      "\n",
      "- Prioritize the \"Add Recipe\" story as high-priority since it's the primary feature of the app.\n",
      "- Break down the \"Add Recipe\" story into smaller stories, such as \"Add Recipe Fields\" and \"Save Recipe to Database\".\n",
      "- Estimate the effort required for each story and create a project plan.\n",
      "\n",
      "### Step 7: Communicate & Collaborate\n",
      "\n",
      "We need to maintain open communication with the development team, ensuring clarity and answering any questions they may have. This includes:\n",
      "\n",
      "- Regularly updating the development team on the project's progress and any changes to the requirements.\n",
      "- Providing necessary resources and support to help the development team overcome any challenges.\n",
      "- Encouraging collaboration and feedback between the development team and stakeholders.\n",
      "\n",
      "### Step 8: Review & Iterate\n",
      "\n",
      "We need to review completed stories with stakeholders, gather feedback, and iterate as needed. This includes:\n",
      "\n",
      "- Reviewing the completed \"Add Recipe\" story with stakeholders and gathering feedback.\n",
      "- Addressing any concerns or issues raised by stakeholders and iterating on the story as needed.\n",
      "- Continuously monitoring and improving the app's performance, user experience, and features based on stakeholder feedback.\n"
     ]
    }
   ],
   "source": [
    "input_= [HumanMessage(content=\"I wan to create app where user can store his recepie\")]\n",
    "for event in graph.stream({'msg': input_ }):\n",
    "    print(event['owner']['msg'][0].content)"
   ]
  },
  {
   "cell_type": "code",
   "execution_count": null,
   "metadata": {},
   "outputs": [],
   "source": []
  },
  {
   "cell_type": "code",
   "execution_count": 49,
   "metadata": {},
   "outputs": [
    {
     "name": "stdout",
     "output_type": "stream",
     "text": [
      "================================\u001b[1m Human Message \u001b[0m=================================\n",
      "\n",
      "I wan to create app where user can store his recepie\n",
      "==================================\u001b[1m Ai Message \u001b[0m==================================\n",
      "\n",
      "### User Requirements Analysis\n",
      "\n",
      "Based on the provided user requirement, \"I want to create an app where users can store their recipes,\" let's break down the requirements into actionable user stories.\n",
      "\n",
      "#### User Story 1: Recipe Creation\n",
      "\n",
      "* **As a** user, **I want to** be able to create a new recipe, **so that** I can store and organize my recipes.\n",
      "\t+ Acceptance Criteria:\n",
      "\t\t- The user can input the recipe name, ingredients, and instructions.\n",
      "\t\t- The user can upload a recipe image.\n",
      "\t\t- The user can save the recipe and view it on the app.\n",
      "\t+ Dependencies & Constraints: Ensure that the app has a secure way to store user data, including recipe images.\n",
      "\t+ Context & Instructions: The app should provide UI/UX guidelines for users to input and save recipes. Consider implementing a step-by-step guide for users to follow.\n",
      "\t+ Priority: High\n",
      "\t+ Estimated Effort: 5 days\n",
      "\n",
      "#### User Story 2: Recipe Organization\n",
      "\n",
      "* **As a** user, **I want to** be able to categorize and tag my recipes, **so that** I can easily find and access my recipes.\n",
      "\t+ Acceptance Criteria:\n",
      "\t\t- The user can assign categories (e.g., desserts, main courses, etc.) to their recipes.\n",
      "\t\t- The user can assign tags (e.g., vegetarian, gluten-free, etc.) to their recipes.\n",
      "\t\t- The app should provide a filtering and searching mechanism for recipes.\n",
      "\t+ Dependencies & Constraints: Ensure that the app has a robust database system to handle user categorization and tagging.\n",
      "\t+ Context & Instructions: The app should provide a seamless experience for users to assign categories and tags to their recipes.\n",
      "\t+ Priority: Medium\n",
      "\t+ Estimated Effort: 3 days\n",
      "\n",
      "#### User Story 3: Recipe Sharing\n",
      "\n",
      "* **As a** user, **I want to** be able to share my recipes with others, **so that** I can collaborate and discover new recipes.\n",
      "\t+ Acceptance Criteria:\n",
      "\t\t- The user can share recipes via social media platforms (e.g., Facebook, Twitter, etc.).\n",
      "\t\t- The user can share recipes via email.\n",
      "\t\t- The app should provide a rating and review system for shared recipes.\n",
      "\t+ Dependencies & Constraints: Ensure that the app has a secure way to handle user authentication and authorization for sharing recipes.\n",
      "\t+ Context & Instructions: The app should provide a user-friendly interface for sharing recipes and a robust system for handling user reviews and ratings.\n",
      "\t+ Priority: Medium\n",
      "\t+ Estimated Effort: 4 days\n",
      "\n",
      "#### User Story 4: Recipe Discovery\n",
      "\n",
      "* **As a** user, **I want to** be able to discover new recipes from other users, **so that** I can explore new culinary ideas.\n",
      "\t+ Acceptance Criteria:\n",
      "\t\t- The app should display a list of popular and trending recipes.\n",
      "\t\t- The app should provide a search function for recipes.\n",
      "\t\t- The user can browse through categories and tags to discover new recipes.\n",
      "\t+ Dependencies & Constraints: Ensure that the app has a robust database system to handle user-generated content and recipe metadata.\n",
      "\t+ Context & Instructions: The app should provide a seamless experience for users to discover new recipes and explore culinary ideas.\n",
      "\t+ Priority: Low\n",
      "\t+ Estimated Effort: 2 days\n",
      "\n",
      "By breaking down the requirements into these user stories, we can ensure that the app meets the user's needs and provides a seamless experience for recipe creation, organization, sharing, and discovery.\n"
     ]
    }
   ],
   "source": [
    "# Input msg\n",
    "input_= [HumanMessage(content=\"I wan to create app where user can store his recepie\")]\n",
    "output= graph.invoke({'msg': input_ })\n",
    "for m in output['msg']:\n",
    "    m.pretty_print()\n"
   ]
  },
  {
   "cell_type": "code",
   "execution_count": 41,
   "metadata": {},
   "outputs": [
    {
     "name": "stdout",
     "output_type": "stream",
     "text": [
      "================================\u001b[1m Human Message \u001b[0m=================================\n",
      "\n",
      "I wan to create app where user can store his recepie\n",
      "==================================\u001b[1m Ai Message \u001b[0m==================================\n",
      "\n",
      "### User Requirements: \n",
      "\n",
      "You want to create an app where users can store their recipes. This involves creating a digital platform where users can save, organize, and manage their favorite recipes.\n",
      "\n",
      "### Step 1: Understand Requirements\n",
      "\n",
      "- **Gather Requirements:**\n",
      "  - The app should allow users to save recipes with ingredients, instructions, and nutritional information.\n",
      "  - Users should be able to organize recipes into categories (e.g., breakfast, lunch, dinner).\n",
      "  - The app should provide a search functionality to easily find specific recipes.\n",
      "  - Users should be able to add and manage their personal cooking notes.\n",
      "\n",
      "- **Clarify Ambiguities:**\n",
      "  - Will the app allow users to create new recipes from scratch or only save existing ones?\n",
      "  - Will the app integrate with any popular recipe APIs or rely on user-submitted content?\n",
      "\n",
      "### Step 2: Create User Stories\n",
      "\n",
      "Here are some initial user stories based on the requirements:\n",
      "\n",
      "- **User Story 1:** \n",
      "  *As a user, I want to be able to save a recipe with ingredients and instructions, so that I can easily access and cook my favorite dishes.*\n",
      "\n",
      "- **User Story 2:** \n",
      "  *As a user, I want to be able to organize my recipes into categories (e.g., breakfast, lunch, dinner), so that I can quickly find specific types of recipes.*\n",
      "\n",
      "- **User Story 3:** \n",
      "  *As a user, I want to be able to search for recipes by name, ingredient, or cooking time, so that I can easily find and try new recipes.*\n",
      "\n",
      "- **User Story 4:** \n",
      "  *As a user, I want to be able to add and manage my personal cooking notes for each recipe, so that I can refine my cooking skills and adapt recipes to my taste.*\n",
      "\n",
      "### Step 3: Define Acceptance Criteria\n",
      "\n",
      "- **User Story 1:**\n",
      "  - Acceptance Criteria:\n",
      "    - The user can submit a new recipe with ingredients and instructions.\n",
      "    - The recipe is saved in the user's account.\n",
      "    - The user can view and edit the saved recipe.\n",
      "\n",
      "- **User Story 2:**\n",
      "  - Acceptance Criteria:\n",
      "    - The user can select a category for each saved recipe.\n",
      "    - The user can view recipes organized by category.\n",
      "    - The user can add new categories.\n",
      "\n",
      "- **User Story 3:**\n",
      "  - Acceptance Criteria:\n",
      "    - The user can search for recipes by name, ingredient, or cooking time.\n",
      "    - The search results are displayed in a list.\n",
      "    - The user can filter search results by category.\n",
      "\n",
      "- **User Story 4:**\n",
      "  - Acceptance Criteria:\n",
      "    - The user can add notes to a saved recipe.\n",
      "    - The user can view and edit notes for a saved recipe.\n",
      "    - Notes are stored in the user's account.\n",
      "\n",
      "### Step 4: Address Dependencies & Constraints\n",
      "\n",
      "- **External Dependencies:**\n",
      "  - Recipe API integration.\n",
      "  - Social sharing functionality (e.g., Facebook, Twitter).\n",
      "\n",
      "- **Constraints:**\n",
      "  - Recipe data storage and retrieval.\n",
      "  - Mobile app compatibility.\n",
      "\n",
      "### Step 5: Provide Context & Instructions\n",
      "\n",
      "- **Background:**\n",
      "  - The app will be a mobile-first application.\n",
      "  - Recipe data will be stored in a cloud-based database.\n",
      "\n",
      "- **UI/UX Guidelines:**\n",
      "  - Recipes should be displayed in a clean, easy-to-read format.\n",
      "  - Categories and search results should be displayed in a list or grid.\n",
      "\n",
      "- **Technical Notes:**\n",
      "  - Recipe data will be stored in a JSON format.\n",
      "  - Recipes will be displayed using a template engine (e.g., Mustache).\n",
      "\n",
      "### Step 6: Prioritize & Break Down Stories\n",
      "\n",
      "- **Prioritization:**\n",
      "  - User Story 1: Saving recipes (high priority).\n",
      "  - User Story 2: Organizing recipes (medium priority).\n",
      "  - User Story 3: Searching recipes (medium priority).\n",
      "  - User Story 4: Adding notes (low priority).\n",
      "\n",
      "- **Breaking Down Stories:**\n",
      "  - **User Story 1:** \n",
      "    - Break down into smaller tasks:\n",
      "      1. Create the recipe submission form.\n",
      "      2. Implement saving recipes to the database.\n",
      "      3. Display saved recipes in the user's account.\n",
      "\n",
      "  - **User Story 2:**\n",
      "    - Break down into smaller tasks:\n",
      "      1. Create the category selection interface.\n",
      "      2. Implement saving and retrieving recipes by category.\n",
      "      3. Display recipes organized by category.\n",
      "\n",
      "  - **User Story 3:**\n",
      "    - Break down into smaller tasks:\n",
      "      1. Create the search interface.\n",
      "      2. Implement searching recipes by name, ingredient, or cooking time.\n",
      "      3. Display search results in a list.\n",
      "\n",
      "  - **User Story 4:**\n",
      "    - Break down into smaller tasks:\n",
      "      1. Create the note submission interface.\n",
      "      2. Implement adding notes to a saved recipe.\n",
      "      3. Display notes for a saved recipe.\n",
      "\n",
      "### Step 7: Communicate & Collaborate\n",
      "\n",
      "- **Team Communication:**\n",
      "  - Hold regular meetings to discuss progress and address questions.\n",
      "  - Use collaboration tools (e.g., Slack, Trello) to track progress and discuss tasks.\n",
      "\n",
      "### Step 8: Review & Iterate\n",
      "\n",
      "- **Review Completed Stories:**\n",
      "  - Meet with stakeholders to review completed user stories.\n",
      "  - Gather feedback and identify areas for improvement.\n",
      "\n",
      "- **Iterate & Refine:**\n",
      "  - Refine user stories based on feedback and iteration.\n",
      "  - Prioritize and break down new user stories as needed.\n"
     ]
    }
   ],
   "source": []
  },
  {
   "cell_type": "code",
   "execution_count": 40,
   "metadata": {},
   "outputs": [
    {
     "data": {
      "text/plain": [
       "[HumanMessage(content='I wan to create app where user can store his recepie', additional_kwargs={}, response_metadata={}, id='1e7469c6-a2b7-4f90-ab26-b7b9728900f4'),\n",
       " AIMessage(content=\"### User Requirements: \\n\\nYou want to create an app where users can store their recipes. This involves creating a digital platform where users can save, organize, and manage their favorite recipes.\\n\\n### Step 1: Understand Requirements\\n\\n- **Gather Requirements:**\\n  - The app should allow users to save recipes with ingredients, instructions, and nutritional information.\\n  - Users should be able to organize recipes into categories (e.g., breakfast, lunch, dinner).\\n  - The app should provide a search functionality to easily find specific recipes.\\n  - Users should be able to add and manage their personal cooking notes.\\n\\n- **Clarify Ambiguities:**\\n  - Will the app allow users to create new recipes from scratch or only save existing ones?\\n  - Will the app integrate with any popular recipe APIs or rely on user-submitted content?\\n\\n### Step 2: Create User Stories\\n\\nHere are some initial user stories based on the requirements:\\n\\n- **User Story 1:** \\n  *As a user, I want to be able to save a recipe with ingredients and instructions, so that I can easily access and cook my favorite dishes.*\\n\\n- **User Story 2:** \\n  *As a user, I want to be able to organize my recipes into categories (e.g., breakfast, lunch, dinner), so that I can quickly find specific types of recipes.*\\n\\n- **User Story 3:** \\n  *As a user, I want to be able to search for recipes by name, ingredient, or cooking time, so that I can easily find and try new recipes.*\\n\\n- **User Story 4:** \\n  *As a user, I want to be able to add and manage my personal cooking notes for each recipe, so that I can refine my cooking skills and adapt recipes to my taste.*\\n\\n### Step 3: Define Acceptance Criteria\\n\\n- **User Story 1:**\\n  - Acceptance Criteria:\\n    - The user can submit a new recipe with ingredients and instructions.\\n    - The recipe is saved in the user's account.\\n    - The user can view and edit the saved recipe.\\n\\n- **User Story 2:**\\n  - Acceptance Criteria:\\n    - The user can select a category for each saved recipe.\\n    - The user can view recipes organized by category.\\n    - The user can add new categories.\\n\\n- **User Story 3:**\\n  - Acceptance Criteria:\\n    - The user can search for recipes by name, ingredient, or cooking time.\\n    - The search results are displayed in a list.\\n    - The user can filter search results by category.\\n\\n- **User Story 4:**\\n  - Acceptance Criteria:\\n    - The user can add notes to a saved recipe.\\n    - The user can view and edit notes for a saved recipe.\\n    - Notes are stored in the user's account.\\n\\n### Step 4: Address Dependencies & Constraints\\n\\n- **External Dependencies:**\\n  - Recipe API integration.\\n  - Social sharing functionality (e.g., Facebook, Twitter).\\n\\n- **Constraints:**\\n  - Recipe data storage and retrieval.\\n  - Mobile app compatibility.\\n\\n### Step 5: Provide Context & Instructions\\n\\n- **Background:**\\n  - The app will be a mobile-first application.\\n  - Recipe data will be stored in a cloud-based database.\\n\\n- **UI/UX Guidelines:**\\n  - Recipes should be displayed in a clean, easy-to-read format.\\n  - Categories and search results should be displayed in a list or grid.\\n\\n- **Technical Notes:**\\n  - Recipe data will be stored in a JSON format.\\n  - Recipes will be displayed using a template engine (e.g., Mustache).\\n\\n### Step 6: Prioritize & Break Down Stories\\n\\n- **Prioritization:**\\n  - User Story 1: Saving recipes (high priority).\\n  - User Story 2: Organizing recipes (medium priority).\\n  - User Story 3: Searching recipes (medium priority).\\n  - User Story 4: Adding notes (low priority).\\n\\n- **Breaking Down Stories:**\\n  - **User Story 1:** \\n    - Break down into smaller tasks:\\n      1. Create the recipe submission form.\\n      2. Implement saving recipes to the database.\\n      3. Display saved recipes in the user's account.\\n\\n  - **User Story 2:**\\n    - Break down into smaller tasks:\\n      1. Create the category selection interface.\\n      2. Implement saving and retrieving recipes by category.\\n      3. Display recipes organized by category.\\n\\n  - **User Story 3:**\\n    - Break down into smaller tasks:\\n      1. Create the search interface.\\n      2. Implement searching recipes by name, ingredient, or cooking time.\\n      3. Display search results in a list.\\n\\n  - **User Story 4:**\\n    - Break down into smaller tasks:\\n      1. Create the note submission interface.\\n      2. Implement adding notes to a saved recipe.\\n      3. Display notes for a saved recipe.\\n\\n### Step 7: Communicate & Collaborate\\n\\n- **Team Communication:**\\n  - Hold regular meetings to discuss progress and address questions.\\n  - Use collaboration tools (e.g., Slack, Trello) to track progress and discuss tasks.\\n\\n### Step 8: Review & Iterate\\n\\n- **Review Completed Stories:**\\n  - Meet with stakeholders to review completed user stories.\\n  - Gather feedback and identify areas for improvement.\\n\\n- **Iterate & Refine:**\\n  - Refine user stories based on feedback and iteration.\\n  - Prioritize and break down new user stories as needed.\", additional_kwargs={}, response_metadata={'token_usage': {'completion_tokens': 1147, 'prompt_tokens': 354, 'total_tokens': 1501, 'completion_time': 1.5293333329999999, 'prompt_time': 0.013818481, 'queue_time': 0.049257763, 'total_time': 1.543151814}, 'model_name': 'llama-3.2-11b-vision-preview', 'system_fingerprint': 'fp_465c5d391d', 'finish_reason': 'stop', 'logprobs': None}, id='run-d1c67a15-4932-408e-8a3b-99924294d4d9-0', usage_metadata={'input_tokens': 354, 'output_tokens': 1147, 'total_tokens': 1501})]"
      ]
     },
     "execution_count": 40,
     "metadata": {},
     "output_type": "execute_result"
    }
   ],
   "source": [
    "output['msg']"
   ]
  },
  {
   "cell_type": "code",
   "execution_count": 39,
   "metadata": {},
   "outputs": [
    {
     "data": {
      "text/plain": [
       "{'msg': [HumanMessage(content='I wan to create app where user can store his recepie', additional_kwargs={}, response_metadata={}, id='1e7469c6-a2b7-4f90-ab26-b7b9728900f4'),\n",
       "  AIMessage(content=\"### User Requirements: \\n\\nYou want to create an app where users can store their recipes. This involves creating a digital platform where users can save, organize, and manage their favorite recipes.\\n\\n### Step 1: Understand Requirements\\n\\n- **Gather Requirements:**\\n  - The app should allow users to save recipes with ingredients, instructions, and nutritional information.\\n  - Users should be able to organize recipes into categories (e.g., breakfast, lunch, dinner).\\n  - The app should provide a search functionality to easily find specific recipes.\\n  - Users should be able to add and manage their personal cooking notes.\\n\\n- **Clarify Ambiguities:**\\n  - Will the app allow users to create new recipes from scratch or only save existing ones?\\n  - Will the app integrate with any popular recipe APIs or rely on user-submitted content?\\n\\n### Step 2: Create User Stories\\n\\nHere are some initial user stories based on the requirements:\\n\\n- **User Story 1:** \\n  *As a user, I want to be able to save a recipe with ingredients and instructions, so that I can easily access and cook my favorite dishes.*\\n\\n- **User Story 2:** \\n  *As a user, I want to be able to organize my recipes into categories (e.g., breakfast, lunch, dinner), so that I can quickly find specific types of recipes.*\\n\\n- **User Story 3:** \\n  *As a user, I want to be able to search for recipes by name, ingredient, or cooking time, so that I can easily find and try new recipes.*\\n\\n- **User Story 4:** \\n  *As a user, I want to be able to add and manage my personal cooking notes for each recipe, so that I can refine my cooking skills and adapt recipes to my taste.*\\n\\n### Step 3: Define Acceptance Criteria\\n\\n- **User Story 1:**\\n  - Acceptance Criteria:\\n    - The user can submit a new recipe with ingredients and instructions.\\n    - The recipe is saved in the user's account.\\n    - The user can view and edit the saved recipe.\\n\\n- **User Story 2:**\\n  - Acceptance Criteria:\\n    - The user can select a category for each saved recipe.\\n    - The user can view recipes organized by category.\\n    - The user can add new categories.\\n\\n- **User Story 3:**\\n  - Acceptance Criteria:\\n    - The user can search for recipes by name, ingredient, or cooking time.\\n    - The search results are displayed in a list.\\n    - The user can filter search results by category.\\n\\n- **User Story 4:**\\n  - Acceptance Criteria:\\n    - The user can add notes to a saved recipe.\\n    - The user can view and edit notes for a saved recipe.\\n    - Notes are stored in the user's account.\\n\\n### Step 4: Address Dependencies & Constraints\\n\\n- **External Dependencies:**\\n  - Recipe API integration.\\n  - Social sharing functionality (e.g., Facebook, Twitter).\\n\\n- **Constraints:**\\n  - Recipe data storage and retrieval.\\n  - Mobile app compatibility.\\n\\n### Step 5: Provide Context & Instructions\\n\\n- **Background:**\\n  - The app will be a mobile-first application.\\n  - Recipe data will be stored in a cloud-based database.\\n\\n- **UI/UX Guidelines:**\\n  - Recipes should be displayed in a clean, easy-to-read format.\\n  - Categories and search results should be displayed in a list or grid.\\n\\n- **Technical Notes:**\\n  - Recipe data will be stored in a JSON format.\\n  - Recipes will be displayed using a template engine (e.g., Mustache).\\n\\n### Step 6: Prioritize & Break Down Stories\\n\\n- **Prioritization:**\\n  - User Story 1: Saving recipes (high priority).\\n  - User Story 2: Organizing recipes (medium priority).\\n  - User Story 3: Searching recipes (medium priority).\\n  - User Story 4: Adding notes (low priority).\\n\\n- **Breaking Down Stories:**\\n  - **User Story 1:** \\n    - Break down into smaller tasks:\\n      1. Create the recipe submission form.\\n      2. Implement saving recipes to the database.\\n      3. Display saved recipes in the user's account.\\n\\n  - **User Story 2:**\\n    - Break down into smaller tasks:\\n      1. Create the category selection interface.\\n      2. Implement saving and retrieving recipes by category.\\n      3. Display recipes organized by category.\\n\\n  - **User Story 3:**\\n    - Break down into smaller tasks:\\n      1. Create the search interface.\\n      2. Implement searching recipes by name, ingredient, or cooking time.\\n      3. Display search results in a list.\\n\\n  - **User Story 4:**\\n    - Break down into smaller tasks:\\n      1. Create the note submission interface.\\n      2. Implement adding notes to a saved recipe.\\n      3. Display notes for a saved recipe.\\n\\n### Step 7: Communicate & Collaborate\\n\\n- **Team Communication:**\\n  - Hold regular meetings to discuss progress and address questions.\\n  - Use collaboration tools (e.g., Slack, Trello) to track progress and discuss tasks.\\n\\n### Step 8: Review & Iterate\\n\\n- **Review Completed Stories:**\\n  - Meet with stakeholders to review completed user stories.\\n  - Gather feedback and identify areas for improvement.\\n\\n- **Iterate & Refine:**\\n  - Refine user stories based on feedback and iteration.\\n  - Prioritize and break down new user stories as needed.\", additional_kwargs={}, response_metadata={'token_usage': {'completion_tokens': 1147, 'prompt_tokens': 354, 'total_tokens': 1501, 'completion_time': 1.5293333329999999, 'prompt_time': 0.013818481, 'queue_time': 0.049257763, 'total_time': 1.543151814}, 'model_name': 'llama-3.2-11b-vision-preview', 'system_fingerprint': 'fp_465c5d391d', 'finish_reason': 'stop', 'logprobs': None}, id='run-d1c67a15-4932-408e-8a3b-99924294d4d9-0', usage_metadata={'input_tokens': 354, 'output_tokens': 1147, 'total_tokens': 1501})]}"
      ]
     },
     "execution_count": 39,
     "metadata": {},
     "output_type": "execute_result"
    }
   ],
   "source": [
    "output"
   ]
  },
  {
   "cell_type": "code",
   "execution_count": 28,
   "metadata": {},
   "outputs": [],
   "source": [
    "# template= ChatPromptTemplate([\n",
    "#         (\"system\", product_owner_prompt),\n",
    "#         (\"human\", \"{user_input}\")\n",
    "#     ])\n",
    "# chain = template | llm \n",
    "# chain.invoke({\"user_input\" :\"I wan to create app where user can store his recepie\"})\n"
   ]
  },
  {
   "cell_type": "code",
   "execution_count": 26,
   "metadata": {},
   "outputs": [],
   "source": [
    "# llm.invoke(template.invoke({\"user_input\" :\"I wan to create app where user can store his recepie\"}))"
   ]
  },
  {
   "cell_type": "code",
   "execution_count": null,
   "metadata": {},
   "outputs": [],
   "source": []
  },
  {
   "cell_type": "code",
   "execution_count": null,
   "metadata": {},
   "outputs": [],
   "source": []
  },
  {
   "cell_type": "code",
   "execution_count": null,
   "metadata": {},
   "outputs": [],
   "source": []
  },
  {
   "cell_type": "code",
   "execution_count": 22,
   "metadata": {},
   "outputs": [],
   "source": [
    "# template = ChatPromptTemplate([\n",
    "#     (\"system\", \"You are a helpful AI bot. Your name is Carl.\"),\n",
    "#     (\"human\", \"{user_input}\"),\n",
    "# ])\n",
    "# prompt_value = template.invoke(\"Hello, there!\")\n",
    "# prompt_value"
   ]
  },
  {
   "cell_type": "code",
   "execution_count": 25,
   "metadata": {},
   "outputs": [
    {
     "data": {
      "text/plain": [
       "AIMessage(content=\"Hello! I'm Carl, your friendly AI assistant. How can I help you today? Do you have any questions or topics you'd like to discuss? I'm here to provide information, answer questions, and have a chat. What's on your mind?\", additional_kwargs={}, response_metadata={'token_usage': {'completion_tokens': 53, 'prompt_tokens': 49, 'total_tokens': 102, 'completion_time': 0.070666667, 'prompt_time': 0.004010494, 'queue_time': 1.225581023, 'total_time': 0.074677161}, 'model_name': 'llama-3.2-11b-vision-preview', 'system_fingerprint': 'fp_b457b52f3c', 'finish_reason': 'stop', 'logprobs': None}, id='run-b9a0fc54-da65-43e3-b5fc-eb3745f9b9b2-0', usage_metadata={'input_tokens': 49, 'output_tokens': 53, 'total_tokens': 102})"
      ]
     },
     "execution_count": 25,
     "metadata": {},
     "output_type": "execute_result"
    }
   ],
   "source": [
    "chain= template | llm\n",
    "chain.invoke(\"Hi there\")"
   ]
  },
  {
   "cell_type": "code",
   "execution_count": 26,
   "metadata": {},
   "outputs": [
    {
     "data": {
      "text/plain": [
       "AIMessage(content=\"Hello.  My name is Carl, and I'm here to help answer any questions you may have or provide information on a wide range of topics. How can I assist you today?\", additional_kwargs={}, response_metadata={'token_usage': {'completion_tokens': 38, 'prompt_tokens': 49, 'total_tokens': 87, 'completion_time': 0.050666667, 'prompt_time': 0.003610843, 'queue_time': 0.223583443, 'total_time': 0.05427751}, 'model_name': 'llama-3.2-11b-vision-preview', 'system_fingerprint': 'fp_465c5d391d', 'finish_reason': 'stop', 'logprobs': None}, id='run-1cd049c1-4b5d-49b6-924c-7719ac7cdf56-0', usage_metadata={'input_tokens': 49, 'output_tokens': 38, 'total_tokens': 87})"
      ]
     },
     "execution_count": 26,
     "metadata": {},
     "output_type": "execute_result"
    }
   ],
   "source": [
    "chain.invoke({\"user_input\": \"Hi there\"})"
   ]
  },
  {
   "cell_type": "code",
   "execution_count": null,
   "metadata": {},
   "outputs": [],
   "source": []
  },
  {
   "cell_type": "code",
   "execution_count": null,
   "metadata": {},
   "outputs": [],
   "source": []
  },
  {
   "cell_type": "markdown",
   "metadata": {},
   "source": [
    "# RAW Input"
   ]
  },
  {
   "cell_type": "code",
   "execution_count": 56,
   "metadata": {},
   "outputs": [],
   "source": [
    "ProdOwnSysPrompt = product_owner_prompt\n",
    "owner_template = ChatPromptTemplate(messages=[\n",
    "    (\"system\", ProdOwnSysPrompt),\n",
    "    (\"user\", \"{Question}\")\n",
    "])\n",
    "template= owner_template.invoke({\"Question\": \"I want application which can store the recipe, where user can login and store there own recipe.\"})\n",
    "response= llm.invoke(template)"
   ]
  },
  {
   "cell_type": "code",
   "execution_count": 59,
   "metadata": {},
   "outputs": [
    {
     "data": {
      "text/markdown": [
       "**User Requirements:**\n",
       "\n",
       "- A user should be able to create an account and log in to the application.\n",
       "- A user should be able to store their own recipes in the application.\n",
       "- A user should be able to view their stored recipes in the application.\n",
       "- The application should allow users to add, edit, and delete recipes.\n",
       "- The application should have a user-friendly interface for users to input recipe details.\n",
       "\n",
       "**Step 1: Understand Requirements**\n",
       "\n",
       "To clarify the user requirements, let's break down the functionality into smaller components:\n",
       "\n",
       "1. User authentication (login and registration)\n",
       "2. Recipe storage and management (create, edit, delete)\n",
       "3. User interface for recipe input\n",
       "\n",
       "**Step 2: Create User Stories**\n",
       "\n",
       "Based on the user requirements, here are some user stories:\n",
       "\n",
       "1. **US-1: User Registration**\n",
       "   *As a user, I want to be able to create an account, so that I can store my recipes.*\n",
       "\n",
       "2. **US-2: User Login**\n",
       "   *As a user, I want to be able to log in to my account, so that I can access my stored recipes.*\n",
       "\n",
       "3. **US-3: Add Recipe**\n",
       "   *As a user, I want to be able to add new recipes to my account, so that I can store my favorite recipes.*\n",
       "\n",
       "4. **US-4: View Recipes**\n",
       "   *As a user, I want to be able to view all my stored recipes, so that I can easily access them.*\n",
       "\n",
       "5. **US-5: Edit Recipe**\n",
       "   *As a user, I want to be able to edit my stored recipes, so that I can update the recipe details.*\n",
       "\n",
       "6. **US-6: Delete Recipe**\n",
       "   *As a user, I want to be able to delete my stored recipes, so that I can remove unwanted recipes.*\n",
       "\n",
       "**Step 3: Define Acceptance Criteria**\n",
       "\n",
       "For each user story, here are some acceptance criteria:\n",
       "\n",
       "1. **US-1: User Registration**\n",
       "   - The application should allow users to create an account with a unique username and password.\n",
       "   - The application should validate user input and display error messages for invalid input.\n",
       "\n",
       "2. **US-2: User Login**\n",
       "   - The application should allow users to log in with their username and password.\n",
       "   - The application should validate user input and display error messages for invalid input.\n",
       "\n",
       "3. **US-3: Add Recipe**\n",
       "   - The application should allow users to add new recipes with details such as name, ingredients, and instructions.\n",
       "   - The application should validate user input and display error messages for invalid input.\n",
       "\n",
       "4. **US-4: View Recipes**\n",
       "   - The application should display all stored recipes in a user-friendly format.\n",
       "   - The application should allow users to filter or search recipes by name or category.\n",
       "\n",
       "5. **US-5: Edit Recipe**\n",
       "   - The application should allow users to edit stored recipes with details such as name, ingredients, and instructions.\n",
       "   - The application should validate user input and display error messages for invalid input.\n",
       "\n",
       "6. **US-6: Delete Recipe**\n",
       "   - The application should allow users to delete stored recipes.\n",
       "   - The application should confirm deletion with the user before deleting the recipe.\n",
       "\n",
       "**Step 4: Address Dependencies & Constraints**\n",
       "\n",
       "Based on the user requirements, here are some dependencies and constraints:\n",
       "\n",
       "- The application should use a secure password hashing algorithm to store user passwords.\n",
       "- The application should use a reliable database to store user data and recipes.\n",
       "- The application should have a user-friendly interface for users to input recipe details.\n",
       "\n",
       "**Step 5: Provide Context & Instructions**\n",
       "\n",
       "Based on the user requirements, here are some additional context and instructions:\n",
       "\n",
       "- The application should have a clean and intuitive user interface.\n",
       "- The application should provide clear instructions for users to follow when adding, editing, or deleting recipes.\n",
       "- The application should handle errors and exceptions gracefully.\n",
       "\n",
       "**Step 6: Prioritize & Break Down Stories**\n",
       "\n",
       "Based on the user requirements, here are some prioritization and breakdown of stories:\n",
       "\n",
       "- Priority 1: User registration and login (US-1 and US-2)\n",
       "- Priority 2: Add recipe (US-3)\n",
       "- Priority 3: View recipes (US-4)\n",
       "- Priority 4: Edit recipe (US-5)\n",
       "- Priority 5: Delete recipe (US-6)\n",
       "\n",
       "**Step 7: Communicate & Collaborate**\n",
       "\n",
       "Based on the user requirements, here are some communication and collaboration:\n",
       "\n",
       "- The development team should work closely with stakeholders to clarify any ambiguities.\n",
       "- The development team should provide regular updates to stakeholders on the progress of the application.\n",
       "- The development team should gather feedback from stakeholders and iterate accordingly.\n",
       "\n",
       "**Step 8: Review & Iterate**\n",
       "\n",
       "Based on the user requirements, here are some review and iteration:\n",
       "\n",
       "- The development team should review the completed application with stakeholders.\n",
       "- The development team should gather feedback from stakeholders and iterate accordingly.\n",
       "- The development team should ensure that the application meets the user requirements and is user-friendly."
      ],
      "text/plain": [
       "<IPython.core.display.Markdown object>"
      ]
     },
     "metadata": {},
     "output_type": "display_data"
    }
   ],
   "source": [
    "display(Markdown(response.content))"
   ]
  },
  {
   "cell_type": "code",
   "execution_count": null,
   "metadata": {},
   "outputs": [],
   "source": []
  }
 ],
 "metadata": {
  "kernelspec": {
   "display_name": "Python 3 (ipykernel)",
   "language": "python",
   "name": "python3"
  },
  "language_info": {
   "codemirror_mode": {
    "name": "ipython",
    "version": 3
   },
   "file_extension": ".py",
   "mimetype": "text/x-python",
   "name": "python",
   "nbconvert_exporter": "python",
   "pygments_lexer": "ipython3",
   "version": "3.11.11"
  }
 },
 "nbformat": 4,
 "nbformat_minor": 4
}
